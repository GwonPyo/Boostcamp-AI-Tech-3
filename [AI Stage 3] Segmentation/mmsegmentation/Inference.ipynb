{
 "cells": [
  {
   "cell_type": "code",
   "execution_count": 1,
   "id": "21f8472a-3253-400f-b986-6578f197ce3d",
   "metadata": {},
   "outputs": [],
   "source": [
    "import os\n",
    "import mmcv\n",
    "import torch\n",
    "from mmcv import Config\n",
    "from mmseg.datasets import build_dataloader, build_dataset\n",
    "from mmseg.models import build_segmentor\n",
    "from mmseg.apis import single_gpu_test\n",
    "from mmcv.runner import load_checkpoint\n",
    "from mmcv.parallel import MMDataParallel\n",
    "\n",
    "import pandas as pd\n",
    "import numpy as np\n",
    "import json"
   ]
  },
  {
   "cell_type": "code",
   "execution_count": 2,
   "id": "99f0623e-c5a5-4c7f-9bd6-5b47feb17dba",
   "metadata": {},
   "outputs": [],
   "source": [
    "# epoch 지정해주기\n",
    "epoch = 'best_mIoU_epoch_33'\n",
    "# work dir 설정해주기\n",
    "work_dir = '/opt/ml/mmsegmentation/work_dirs/twins_svt-l_uperhead_8x2_512x512_160k_ade20k'\n",
    "\n",
    "# config file 들고오기\n",
    "# config file은 수정해서 사용\n",
    "cfg = Config.fromfile('/opt/ml/mmsegmentation/work_dirs/twins_svt-l_uperhead_8x2_512x512_160k_ade20k/twins_svt-l_uperhead_8x2_512x512_160k_ade20k.py')\n",
    "root='/opt/ml/input/mmseg/images/test'\n",
    "\n",
    "# dataset config 수정\n",
    "cfg.data.test.img_dir = root\n",
    "# cfg.data.test.pipeline[1]['img_scale'] = (512,512)\n",
    "cfg.data.test.test_mode = True\n",
    "\n",
    "cfg.data.samples_per_gpu = 1\n",
    "cfg.work_dir = work_dir\n",
    "\n",
    "cfg.optimizer_config.grad_clip = dict(max_norm=35, norm_type=2)\n",
    "cfg.model.train_cfg = None"
   ]
  },
  {
   "cell_type": "code",
   "execution_count": 3,
   "id": "90783726-e277-45fb-ace7-41d66eaab1d8",
   "metadata": {},
   "outputs": [
    {
     "name": "stderr",
     "output_type": "stream",
     "text": [
      "/opt/ml/mmsegmentation/mmseg/datasets/pipelines/test_time_aug.py:87: UserWarning: flip_direction has no effect when flip is set to False\n",
      "  warnings.warn(\n",
      "2022-05-11 01:05:03,490 - mmseg - INFO - Loaded 624 images\n"
     ]
    }
   ],
   "source": [
    "dataset = build_dataset(cfg.data.test)\n",
    "data_loader = build_dataloader(\n",
    "        dataset,\n",
    "        samples_per_gpu=1,\n",
    "        workers_per_gpu=cfg.data.workers_per_gpu,\n",
    "        dist=False,\n",
    "        shuffle=False)"
   ]
  },
  {
   "cell_type": "code",
   "execution_count": 4,
   "id": "08be7fdd-777a-4396-8047-6763c8a35177",
   "metadata": {},
   "outputs": [
    {
     "name": "stderr",
     "output_type": "stream",
     "text": [
      "/opt/ml/mmsegmentation/mmseg/models/losses/cross_entropy_loss.py:232: UserWarning: Default ``avg_non_ignore`` is False, if you would like to ignore the certain label and average loss over non-ignore labels, which is the same with PyTorch official cross_entropy, set ``avg_non_ignore=True``.\n",
      "  warnings.warn(\n"
     ]
    },
    {
     "name": "stdout",
     "output_type": "stream",
     "text": [
      "load checkpoint from local path: /opt/ml/mmsegmentation/work_dirs/twins_svt-l_uperhead_8x2_512x512_160k_ade20k/best_mIoU_epoch_33.pth\n"
     ]
    }
   ],
   "source": [
    "# checkpoint path\n",
    "checkpoint_path = os.path.join(cfg.work_dir, f'{epoch}.pth')\n",
    "\n",
    "model = build_segmentor(cfg.model, test_cfg=cfg.get('test_cfg'))\n",
    "checkpoint = load_checkpoint(model, checkpoint_path, map_location='cpu')\n",
    "model.CLASSES = dataset.CLASSES\n",
    "model = MMDataParallel(model.cuda(), device_ids=[0])"
   ]
  },
  {
   "cell_type": "code",
   "execution_count": 5,
   "id": "1506fa80-3d70-447a-8607-b78fdb0926cd",
   "metadata": {},
   "outputs": [
    {
     "name": "stdout",
     "output_type": "stream",
     "text": [
      "[>>>>>>>>>>>>>>>>>>>>>>>>>>>>>>] 624/624, 8.4 task/s, elapsed: 74s, ETA:     0s"
     ]
    }
   ],
   "source": [
    "output = single_gpu_test(model, data_loader)"
   ]
  },
  {
   "cell_type": "code",
   "execution_count": 6,
   "id": "0cc020bf-d5b1-4d3c-bf73-fcdc8f3aea18",
   "metadata": {},
   "outputs": [],
   "source": [
    "# submission 양식에 맞게 output 후처리\n",
    "input_size = 512\n",
    "output_size = 256\n",
    "\n",
    "submission = pd.read_csv(\"/opt/ml/input/code/submission/sample_submission.csv\", index_col=None)\n",
    "json_dir = os.path.join(\"/opt/ml/input/data/test.json\")\n",
    "\n",
    "with open(json_dir, \"r\", encoding=\"utf8\") as outfile:\n",
    "    datas = json.load(outfile)\n",
    "\n",
    "# PredictionString 대입\n",
    "for image_id, predict in enumerate(output):\n",
    "\n",
    "    image_id = datas[\"images\"][image_id]\n",
    "    file_name = image_id[\"file_name\"]\n",
    "\n",
    "    temp_mask = []\n",
    "    predict = predict.reshape(1, 512, 512)\n",
    "    mask = predict.reshape((1, output_size, input_size//output_size, output_size, input_size//output_size)).max(4).max(2) # resize to 256*256\n",
    "    temp_mask.append(mask)\n",
    "    oms = np.array(temp_mask)\n",
    "    oms = oms.reshape([oms.shape[0], output_size*output_size]).astype(int)\n",
    "    string = oms.flatten()\n",
    "    submission = pd.concat([submission, pd.DataFrame([{\"image_id\" : file_name, \"PredictionString\" : ' '.join(str(e) for e in string.tolist())}])]\n",
    "                                   , ignore_index=True)\n",
    "\n",
    "\n",
    "submission.to_csv(os.path.join(cfg.work_dir, f'submission_{epoch}.csv'), index=False)"
   ]
  },
  {
   "cell_type": "code",
   "execution_count": 8,
   "id": "07d8cd69",
   "metadata": {},
   "outputs": [
    {
     "data": {
      "text/html": [
       "<div>\n",
       "<style scoped>\n",
       "    .dataframe tbody tr th:only-of-type {\n",
       "        vertical-align: middle;\n",
       "    }\n",
       "\n",
       "    .dataframe tbody tr th {\n",
       "        vertical-align: top;\n",
       "    }\n",
       "\n",
       "    .dataframe thead th {\n",
       "        text-align: right;\n",
       "    }\n",
       "</style>\n",
       "<table border=\"1\" class=\"dataframe\">\n",
       "  <thead>\n",
       "    <tr style=\"text-align: right;\">\n",
       "      <th></th>\n",
       "      <th>image_id</th>\n",
       "      <th>PredictionString</th>\n",
       "    </tr>\n",
       "  </thead>\n",
       "  <tbody>\n",
       "    <tr>\n",
       "      <th>0</th>\n",
       "      <td>batch_01_vt/0021.jpg</td>\n",
       "      <td>0 0 0 0 0 0 0 0 0 0 0 0 0 0 0 0 0 0 0 0 0 0 0 ...</td>\n",
       "    </tr>\n",
       "    <tr>\n",
       "      <th>1</th>\n",
       "      <td>batch_01_vt/0028.jpg</td>\n",
       "      <td>0 0 0 0 0 0 0 0 0 0 0 0 0 0 0 0 0 0 0 0 0 0 0 ...</td>\n",
       "    </tr>\n",
       "    <tr>\n",
       "      <th>2</th>\n",
       "      <td>batch_01_vt/0031.jpg</td>\n",
       "      <td>0 0 0 0 0 0 0 0 0 0 0 0 0 0 0 0 0 0 0 0 0 0 0 ...</td>\n",
       "    </tr>\n",
       "    <tr>\n",
       "      <th>3</th>\n",
       "      <td>batch_01_vt/0032.jpg</td>\n",
       "      <td>0 0 0 0 0 0 0 0 0 0 0 0 0 0 0 0 0 0 0 0 0 0 0 ...</td>\n",
       "    </tr>\n",
       "    <tr>\n",
       "      <th>4</th>\n",
       "      <td>batch_01_vt/0076.jpg</td>\n",
       "      <td>0 0 0 0 0 0 0 0 0 0 0 0 0 0 0 0 0 0 0 0 0 0 0 ...</td>\n",
       "    </tr>\n",
       "  </tbody>\n",
       "</table>\n",
       "</div>"
      ],
      "text/plain": [
       "               image_id                                   PredictionString\n",
       "0  batch_01_vt/0021.jpg  0 0 0 0 0 0 0 0 0 0 0 0 0 0 0 0 0 0 0 0 0 0 0 ...\n",
       "1  batch_01_vt/0028.jpg  0 0 0 0 0 0 0 0 0 0 0 0 0 0 0 0 0 0 0 0 0 0 0 ...\n",
       "2  batch_01_vt/0031.jpg  0 0 0 0 0 0 0 0 0 0 0 0 0 0 0 0 0 0 0 0 0 0 0 ...\n",
       "3  batch_01_vt/0032.jpg  0 0 0 0 0 0 0 0 0 0 0 0 0 0 0 0 0 0 0 0 0 0 0 ...\n",
       "4  batch_01_vt/0076.jpg  0 0 0 0 0 0 0 0 0 0 0 0 0 0 0 0 0 0 0 0 0 0 0 ..."
      ]
     },
     "execution_count": 8,
     "metadata": {},
     "output_type": "execute_result"
    }
   ],
   "source": [
    "submission.head()"
   ]
  },
  {
   "cell_type": "code",
   "execution_count": 19,
   "id": "0b52c741",
   "metadata": {},
   "outputs": [],
   "source": [
    "# submission 양식에 맞게 output 후처리\n",
    "input_size = 512\n",
    "output_size = 256\n",
    "\n",
    "submission = pd.read_csv(\"/opt/ml/mmsegmentation/_MyModel/submission/sample_submission.csv\", index_col=None)\n",
    "json_dir = os.path.join(\"/opt/ml/input/data/test.json\")\n",
    "\n",
    "submission_check = pd.read_csv(\"/opt/ml/mmsegmentation/_MyModel/submission/sample_submission.csv\", index_col=None)\n",
    "check_dir = '/opt/ml/input/mmseg/test_check'\n",
    "os.makedirs(check_dir,exist_ok=True)\n",
    "os.makedirs(check_dir+'/csv',exist_ok=True)\n",
    "os.makedirs(check_dir+'/image',exist_ok=True)\n",
    "\n",
    "\n",
    "with open(json_dir, \"r\", encoding=\"utf8\") as outfile:\n",
    "    datas = json.load(outfile)\n",
    "import matplotlib.pyplot as plt\n",
    "from PIL import Image\n",
    "# PredictionString 대입\n",
    "palette = [[0,0,0],[192,0,128],[0,128,192],[0,128,64],[128,0,0],[64,0,128],[64,0,192],[192,128,64],[192,192,128],[64,64,128],[128,0,192]]\n",
    "\n",
    "for image_id, predict in enumerate(output):\n",
    "\n",
    "    image_id = datas[\"images\"][image_id]\n",
    "    file_name = image_id[\"file_name\"]\n",
    "    \n",
    "    temp_mask = []\n",
    "    predict = predict.reshape(1, 512, 512)\n",
    "\n",
    "    mask = predict.reshape((1, output_size, input_size//output_size, output_size, input_size//output_size)).max(4).max(2) # resize to 256*256\n",
    "    temp_mask.append(mask)\n",
    "    oms = np.array(temp_mask)\n",
    "    oms = oms.reshape([oms.shape[0], output_size*output_size]).astype(int)\n",
    "    string = oms.flatten()\n",
    "\n",
    "    submission = pd.concat([submission, pd.DataFrame([{\"image_id\" : file_name, \"PredictionString\" : ' '.join(str(e) for e in string.tolist())}])]\n",
    "                                   , ignore_index=True)\n",
    "\n",
    "    temp_mask_check = []\n",
    "    mask_check = predict\n",
    "    temp_mask_check.append(mask_check)\n",
    "    oms_check = np.array(temp_mask_check)\n",
    "    oms_check = oms_check.reshape([oms_check.shape[0], input_size*input_size]).astype(int)\n",
    "    string_check = oms_check.flatten()\n",
    "\n",
    "    submission_check = pd.concat([submission_check, pd.DataFrame([{\"image_id\" : file_name, \"PredictionString\" : ' '.join(str(e) for e in string_check.tolist())}])]\n",
    "                                   , ignore_index=True)\n",
    "                                   \n",
    "\n",
    "\n",
    "submission.to_csv(os.path.join(cfg.work_dir, f'submission_{epoch}.csv'), index=False)\n",
    "submission_check.to_csv(os.path.join(check_dir, f'csv/submission_{epoch}.csv'), index=False)"
   ]
  },
  {
   "cell_type": "code",
   "execution_count": null,
   "id": "7a6a660e",
   "metadata": {},
   "outputs": [],
   "source": [
    "import pandas as pd\n",
    "from tqdm import tqdm\n",
    "import os\n",
    "\n",
    "# 앙상블할 output.csv 파일들을 한 폴더에 넣어줍니다.\n",
    "# 파일명 앞을 점수로 넣어서 성능이 좋은 순서대로 정렬되도록 했습니다.\n",
    "output_list = os.listdir('./output_csv')\n",
    "output_list.sort(reverse=True)\n",
    "\n",
    "# pandas dataframe으로 만들어줍니다.\n",
    "df_list = []\n",
    "\n",
    "for output in output_list:\n",
    "    df_list.append(pd.read_csv(f'./output_csv/{output}'))\n",
    "\n",
    "# submission dataframe\n",
    "submission = pd.DataFrame()\n",
    "submission['image_id'] = df_list[0]['image_id']\n",
    "\n",
    "# pixel-wise hard voting 진행\n",
    "PredictionString = []\n",
    "\n",
    "for idx in tqdm(range(len(df_list[0]))):\n",
    "    # 각 모델이 뽑은 pixel 넣을 리스트\n",
    "    pixel_list = []\n",
    "    \n",
    "    for i in range(len(df_list)):\n",
    "        pixel_list.append(df_list[i]['PredictionString'][idx].split(' '))\n",
    "\n",
    "    result = ''\n",
    "\n",
    "    for i in range(len(pixel_list[0])):\n",
    "        pixel_count = {'0' : 0, '1' : 0, '2' : 0, \n",
    "                      '3' : 0, '4' : 0, '5' : 0,\n",
    "                      '6' : 0, '7' : 0, '8' : 0,\n",
    "                      '9' : 0, '10' : 0}\n",
    "        \n",
    "        # 각 모델이 뽑은 pixel count\n",
    "        for j in range(len(pixel_list)):\n",
    "            pixel_count[pixel_list[j][i]] += 1\n",
    "        \n",
    "        # 제일 많이 vote된 pixel 값\n",
    "        voted_pixel = [key for key, value in pixel_count.items() if value == max(pixel_count.values())]\n",
    "\n",
    "        # voted_pixel이 1개인 경우\n",
    "        if len(voted_pixel) == 1:\n",
    "            result += voted_pixel[0] + ' '\n",
    "        # 동점이 나온 경우\n",
    "        else:\n",
    "            # 성능이 좋았던 모델부터 값이 voted_pixel에 있다면 result로 고르기\n",
    "            for j in range(len(pixel_list)):\n",
    "                pixel_candidate = pixel_list[j][i]\n",
    "\n",
    "                if pixel_candidate in voted_pixel:\n",
    "                    result += pixel_candidate + ' '\n",
    "                    break\n",
    "    \n",
    "    # 마지막 공백 제거\n",
    "    result = result[:-1]\n",
    "\n",
    "    PredictionString.append(result)\n",
    "\n",
    "# submission csv 만들기\n",
    "submission['PredictionString'] = PredictionString\n",
    "submission.to_csv('./hard_voted_output.csv', index=False)"
   ]
  }
 ],
 "metadata": {
  "interpreter": {
   "hash": "5d0c2b1480244832d7dbf237984b0f05a268e3e22e4477542a885f8374c01bd9"
  },
  "kernelspec": {
   "display_name": "Python 3.10.4 ('open-mmlab')",
   "language": "python",
   "name": "python3"
  },
  "language_info": {
   "codemirror_mode": {
    "name": "ipython",
    "version": 3
   },
   "file_extension": ".py",
   "mimetype": "text/x-python",
   "name": "python",
   "nbconvert_exporter": "python",
   "pygments_lexer": "ipython3",
   "version": "3.10.4"
  }
 },
 "nbformat": 4,
 "nbformat_minor": 5
}
