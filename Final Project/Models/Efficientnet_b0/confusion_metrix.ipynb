{
 "cells": [
  {
   "cell_type": "code",
   "execution_count": 1,
   "metadata": {},
   "outputs": [],
   "source": [
    "import os\n",
    "import json\n",
    "\n",
    "import numpy as np\n",
    "import pandas as pd\n",
    "import seaborn as sn\n",
    "import matplotlib.pyplot as plt\n",
    "# from rembg import remove\n",
    "\n",
    "import torch\n",
    "import timm\n",
    "import cv2\n",
    "import torch.nn as nn\n",
    "import torch.optim as optim\n",
    "import torch.nn.functional as F\n",
    "import torchvision.transforms as transforms\n",
    "import albumentations as A\n",
    "from albumentations.pytorch import ToTensorV2\n",
    "from torch.utils.data import Dataset, DataLoader \n",
    "from tqdm.notebook import tqdm\n",
    "\n",
    "from sklearn.metrics import confusion_matrix"
   ]
  },
  {
   "cell_type": "code",
   "execution_count": null,
   "metadata": {},
   "outputs": [],
   "source": [
    "device = 'cuda' if torch.cuda.is_available() else 'cpu'\n",
    "\n",
    "seed = 42\n",
    "torch.manual_seed(seed)\n",
    "if device == 'cuda':\n",
    "  torch.cuda.manual_seed_all(seed)"
   ]
  },
  {
   "cell_type": "code",
   "execution_count": 17,
   "metadata": {},
   "outputs": [],
   "source": [
    "key = 'oil'\n",
    "\n",
    "valid_images = []                                                       # valid셋에 대해서도 동일한 작업을 위해 두 개의 리스트를 선언한다.\n",
    "valid_labels = []\n",
    "valid_path = '../dataset/valid' \n",
    "with open(os.path.join(valid_path, \"annotations.json\"), \"r\") as json_file:\n",
    "    valid_ann = json.load(json_file)\n",
    "images_info = valid_ann['images']\n",
    "\n",
    "for image_info in images_info:\n",
    "    image_name = image_info['file_name']                                # 이미지 파일의 이름을 가져온다.\n",
    "    file_name = image_name.replace('jpg', 'json')                       # 이미지에 대한 라벨링 json파일의 이름을 저장한다. (.jpg를 .json으로 변경하면 된다.)\n",
    "\n",
    "    with open(os.path.join(valid_path, file_name), \"r\") as json_file:   # json 파일에 접근하여 json 파일을 불러온다.\n",
    "        img_json = json.load(json_file)             \n",
    "    \n",
    "    label = img_json[key]                                               # 학습하고자 하는 category의 라벨을 저장한다.\n",
    "    \n",
    "    if label < 0: continue                                              # 라벨이 -2, -1인 경우 학습에서 제외하여야 한다.\n",
    "    \n",
    "    image_path = os.path.join(valid_path, image_name)                   # 이미지 경로를 불러온다.\n",
    "    image = cv2.imread(image_path)                                      # 이미지를 불러오고 BGR을 RGB로 변경해준다.\n",
    "    image = cv2.cvtColor(image, cv2.COLOR_BGR2RGB) \n",
    "    \n",
    "    valid_images.append(image)\n",
    "    valid_labels.append(label)"
   ]
  },
  {
   "cell_type": "code",
   "execution_count": 18,
   "metadata": {},
   "outputs": [],
   "source": [
    "train_path = '../dataset/train' \n",
    "with open(os.path.join(train_path, \"annotations.json\"), \"r\") as json_file:\n",
    "    train_ann = json.load(json_file)\n",
    "images_info = train_ann['images']\n",
    "\n",
    "for image_info in images_info:\n",
    "    image_name = image_info['file_name']                                # 이미지 파일의 이름을 가져온다.\n",
    "    file_name = image_name.replace('jpg', 'json')                       # 이미지에 대한 라벨링 json파일의 이름을 저장한다. (.jpg를 .json으로 변경하면 된다.)\n",
    "\n",
    "    with open(os.path.join(train_path, file_name), \"r\") as json_file:   # json 파일에 접근하여 json 파일을 불러온다.\n",
    "        img_json = json.load(json_file)             \n",
    "    \n",
    "    label = img_json[key]                                               # 학습하고자 하는 category의 라벨을 저장한다.\n",
    "    \n",
    "    if label == 4:\n",
    "        image_path = os.path.join(train_path, image_name)                   # 이미지 경로를 불러온다.\n",
    "        image = cv2.imread(image_path)                                      # 이미지를 불러오고 BGR을 RGB로 변경해준다.\n",
    "        image = cv2.cvtColor(image, cv2.COLOR_BGR2RGB)\n",
    "\n",
    "        valid_images.append(image)\n",
    "        valid_labels.append(label)\n",
    "    "
   ]
  },
  {
   "cell_type": "code",
   "execution_count": 19,
   "metadata": {},
   "outputs": [],
   "source": [
    "class ValidDataset(Dataset):\n",
    "  def __init__(self, images, labels, transform=None):\n",
    "    self.images = images\n",
    "    self.labels = labels\n",
    "    self.transform = transform\n",
    "  def __len__(self):\n",
    "    return len(self.labels)\n",
    "  \n",
    "  def __getitem__(self, index):\n",
    "    image = self.images[index]\n",
    "\n",
    "    if self.transform is not None:\n",
    "      image = self.transform(image=image)['image']\n",
    "\n",
    "    label = self.labels[index]\n",
    "    return image, label"
   ]
  },
  {
   "cell_type": "code",
   "execution_count": 20,
   "metadata": {},
   "outputs": [],
   "source": [
    "valid_transform = A.Compose([\n",
    "    A.Normalize(mean=(0.5, 0.5, 0.5), std=(0.5, 0.5, 0.5)),\n",
    "    ToTensorV2()\n",
    "])"
   ]
  },
  {
   "cell_type": "code",
   "execution_count": 21,
   "metadata": {},
   "outputs": [],
   "source": [
    "valid_dataset = ValidDataset(valid_images, valid_labels, valid_transform)\n",
    "valid_loader = DataLoader(valid_dataset, batch_size = 1, shuffle=True, drop_last=True)"
   ]
  },
  {
   "cell_type": "code",
   "execution_count": 24,
   "metadata": {},
   "outputs": [
    {
     "name": "stdout",
     "output_type": "stream",
     "text": [
      "Loaded pretrained weights for efficientnet-b0\n"
     ]
    }
   ],
   "source": [
    "from efficientnet_pytorch import EfficientNet\n",
    "model = EfficientNet.from_pretrained('efficientnet-b0', num_classes=5)"
   ]
  },
  {
   "cell_type": "code",
   "execution_count": 41,
   "metadata": {},
   "outputs": [
    {
     "data": {
      "text/plain": [
       "<All keys matched successfully>"
      ]
     },
     "execution_count": 41,
     "metadata": {},
     "output_type": "execute_result"
    }
   ],
   "source": [
    "model_path = './epoch30/final_model/latest.pth'\n",
    "checkpoint = torch.load(model_path, map_location=device)\n",
    "model.load_state_dict(checkpoint, strict=False)"
   ]
  },
  {
   "cell_type": "code",
   "execution_count": null,
   "metadata": {},
   "outputs": [],
   "source": [
    "y_pred = []\n",
    "y_true = []\n",
    "# iterate over test data\n",
    "for inputs, labels in tqdm(valid_loader):\n",
    "        hypothesis = model(inputs) # Feed Network\n",
    "\n",
    "        output = (torch.max(torch.exp(hypothesis), 1)[1]).data.cpu().numpy()\n",
    "        y_pred.extend(output) # Save Prediction\n",
    "\n",
    "        labels = labels.data.cpu().numpy()\n",
    "        y_true.extend(labels) # Save Truth"
   ]
  },
  {
   "cell_type": "code",
   "execution_count": null,
   "metadata": {},
   "outputs": [],
   "source": [
    "cf_matrix = confusion_matrix(y_true, y_pred)"
   ]
  },
  {
   "cell_type": "code",
   "execution_count": null,
   "metadata": {},
   "outputs": [],
   "source": [
    "classes = ('0', '1', '2', '3', '4')\n",
    "\n",
    "df_cm = pd.DataFrame(cf_matrix, index = [i for i in classes],\n",
    "                     columns = [i for i in classes])"
   ]
  },
  {
   "cell_type": "code",
   "execution_count": null,
   "metadata": {},
   "outputs": [],
   "source": [
    "sums = df_cm.sum(axis=1)\n",
    "matrix = []\n",
    "\n",
    "for i in range(5):\n",
    "    matrix.append(df_cm.iloc[i]/sums.iloc[i])\n",
    "matrix = pd.DataFrame(matrix)\n",
    "matrix=round(matrix, 3)"
   ]
  },
  {
   "cell_type": "code",
   "execution_count": 69,
   "metadata": {},
   "outputs": [
    {
     "data": {
      "image/png": "[encoded data removed]",
      "text/plain": [
       "<Figure size 864x504 with 2 Axes>"
      ]
     },
     "metadata": {
      "needs_background": "light"
     },
     "output_type": "display_data"
    }
   ],
   "source": [
    "classes = ('0', '1', '2', '3', '4')\n",
    "\n",
    "df_cm = pd.DataFrame(cf_matrix, index = [i for i in classes],\n",
    "                     columns = [i for i in classes])\n",
    "plt.figure(figsize = (12,7))\n",
    "\n",
    "heatmap = sn.heatmap(data=matrix, annot=True, fmt='.4f', cmap='Purples')\n",
    "plt.show()"
   ]
  }
 ],
 "metadata": {
  "interpreter": {
   "hash": "69b02c503323c0614d613512f26b2662d23fed04f2ba3d80045908c1dc3d71d0"
  },
  "kernelspec": {
   "display_name": "Python 3.9.12 ('serving')",
   "language": "python",
   "name": "python3"
  },
  "language_info": {
   "codemirror_mode": {
    "name": "ipython",
    "version": 3
   },
   "file_extension": ".py",
   "mimetype": "text/x-python",
   "name": "python",
   "nbconvert_exporter": "python",
   "pygments_lexer": "ipython3",
   "version": "3.9.12"
  },
  "orig_nbformat": 4
 },
 "nbformat": 4,
 "nbformat_minor": 2
}
