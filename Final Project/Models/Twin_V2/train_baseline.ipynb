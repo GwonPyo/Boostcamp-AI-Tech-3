{
 "cells": [
  {
   "cell_type": "markdown",
   "metadata": {},
   "source": [
    "<h3> Import Header </h3>"
   ]
  },
  {
   "cell_type": "code",
   "execution_count": 1,
   "metadata": {},
   "outputs": [],
   "source": [
    "import os\n",
    "import json\n",
    "\n",
    "import numpy as np\n",
    "import pandas as pd\n",
    "import matplotlib.pyplot as plt\n",
    "# from rembg import remove\n",
    "\n",
    "import torch\n",
    "import timm\n",
    "import cv2\n",
    "import torch.nn as nn\n",
    "import torch.optim as optim\n",
    "import torchvision.transforms as transforms\n",
    "import albumentations as A\n",
    "from albumentations.pytorch import ToTensorV2\n",
    "from torch.utils.data import Dataset, DataLoader "
   ]
  },
  {
   "cell_type": "markdown",
   "metadata": {},
   "source": [
    "<h3> Set Device </h3>"
   ]
  },
  {
   "cell_type": "code",
   "execution_count": 2,
   "metadata": {},
   "outputs": [],
   "source": [
    "device = 'cuda' if torch.cuda.is_available() else 'cpu'\n",
    "\n",
    "torch.manual_seed(42)\n",
    "if device == 'cuda':\n",
    "  torch.cuda.manual_seed_all(42)"
   ]
  },
  {
   "cell_type": "markdown",
   "metadata": {},
   "source": [
    "<h3> Set Hyper Parameters </h3>"
   ]
  },
  {
   "cell_type": "code",
   "execution_count": 3,
   "metadata": {},
   "outputs": [],
   "source": [
    "learning_rate = 1e-4\n",
    "total_epoch = 100\n",
    "batch_size = 32"
   ]
  },
  {
   "cell_type": "markdown",
   "metadata": {},
   "source": [
    "<h3> Define Dataset / DataLoader </h3>"
   ]
  },
  {
   "cell_type": "code",
   "execution_count": 4,
   "metadata": {},
   "outputs": [],
   "source": [
    "# 이미지 배경 제거시 사용(rembg 사용법)\n",
    "train_path = './dataset/train' \n",
    "with open(os.path.join(train_path, \"annotations.json\"), \"r\") as json_file:\n",
    "    train_ann = json.load(json_file)\n",
    "images_info = train_ann['images']\n",
    "\n",
    "for index, image_info in enumerate(images_info):\n",
    "    input_path = image_info['file_name'] \n",
    "    output_path = input_path.replace('JPEGImages', 'rembg_images')\n",
    "\n",
    "    input = cv2.imread(os.path.join(train_path, input_path))\n",
    "    # input = cv2.cvtColor(input, cv2.COLOR_BGR2RGB)\n",
    "    output = remove(input)\n",
    "    cv2.imwrite(os.path.join(train_path, output_path), output)"
   ]
  },
  {
   "cell_type": "code",
   "execution_count": 5,
   "metadata": {},
   "outputs": [],
   "source": [
    "key = 'oil'                                                             # 학습하고자 하는 category를 설정한다. ('oil','sensitive','pigmentation','wrinkle', 'hydration' 중 택1) / oil기준 30초 소요\n",
    "\n",
    "train_images = []                                                       # 먼저 학습 데이터에 대한 이미지와 라벨을 모으기 위해 리스트 두 개를 선언한다.\n",
    "train_labels = []\n",
    "train_path = './dataset/train' \n",
    "with open(os.path.join(train_path, \"annotations.json\"), \"r\") as json_file:\n",
    "    train_ann = json.load(json_file)\n",
    "images_info = train_ann['images']\n",
    "\n",
    "for image_info in images_info:\n",
    "    image_name = image_info['file_name']                                # 이미지 파일의 이름을 가져온다.\n",
    "    file_name = image_name.replace('jpg', 'json')                       # 이미지에 대한 라벨링 json파일의 이름을 저장한다. (.jpg를 .json으로 변경하면 된다.)\n",
    "\n",
    "    with open(os.path.join(train_path, file_name), \"r\") as json_file:   # json 파일에 접근하여 json 파일을 불러온다.\n",
    "        img_json = json.load(json_file)             \n",
    "    \n",
    "    label = img_json[key]                                               # 학습하고자 하는 category의 라벨을 저장한다.\n",
    "    \n",
    "    if label < 0: continue                                              # 라벨이 -2, -1인 경우 학습에서 제외하여야 한다.\n",
    "    \n",
    "    image_path = os.path.join(train_path, image_name)                   # 이미지 경로를 불러온다.\n",
    "    image = cv2.imread(image_path)                                      # 이미지를 불러오고 BGR을 RGB로 변경해준다.\n",
    "    image = cv2.cvtColor(image, cv2.COLOR_BGR2RGB)\n",
    "    \n",
    "    train_images.append(image)\n",
    "    train_labels.append(label)\n",
    "    "
   ]
  },
  {
   "cell_type": "code",
   "execution_count": 10,
   "metadata": {},
   "outputs": [],
   "source": [
    "valid_images = []                                                       # valid셋에 대해서도 동일한 작업을 위해 두 개의 리스트를 선언한다.\n",
    "valid_labels = []\n",
    "valid_path = './dataset/valid' \n",
    "with open(os.path.join(valid_path, \"annotations.json\"), \"r\") as json_file:\n",
    "    valid_ann = json.load(json_file)\n",
    "images_info = valid_ann['images']\n",
    "\n",
    "for image_info in images_info:\n",
    "    image_name = image_info['file_name']                                # 이미지 파일의 이름을 가져온다.\n",
    "    file_name = image_name.replace('jpg', 'json')                       # 이미지에 대한 라벨링 json파일의 이름을 저장한다. (.jpg를 .json으로 변경하면 된다.)\n",
    "\n",
    "    with open(os.path.join(valid_path, file_name), \"r\") as json_file:   # json 파일에 접근하여 json 파일을 불러온다.\n",
    "        img_json = json.load(json_file)             \n",
    "    \n",
    "    label = img_json[key]                                               # 학습하고자 하는 category의 라벨을 저장한다.\n",
    "    \n",
    "    if label < 0: continue                                              # 라벨이 -2, -1인 경우 학습에서 제외하여야 한다.\n",
    "    \n",
    "    image_path = os.path.join(valid_path, image_name)                   # 이미지 경로를 불러온다.\n",
    "    image = cv2.imread(image_path)                                      # 이미지를 불러오고 BGR을 RGB로 변경해준다.\n",
    "    image = cv2.cvtColor(image, cv2.COLOR_BGR2RGB) \n",
    "    \n",
    "    valid_images.append(image)\n",
    "    valid_labels.append(label)"
   ]
  },
  {
   "cell_type": "code",
   "execution_count": 11,
   "metadata": {},
   "outputs": [],
   "source": [
    "# train, valid dataset class를 선언한다.\n",
    "class TrainDataset(Dataset):\n",
    "  def __init__(self, images, labels, transform=None):\n",
    "    self.images = images\n",
    "    self.labels = labels\n",
    "    self.transform = transform\n",
    "  def __len__(self):\n",
    "    return len(self.labels)\n",
    "  \n",
    "  def __getitem__(self, index):\n",
    "    image = self.images[index]\n",
    "    \n",
    "    if self.transform is not None:\n",
    "      image = self.transform(image=image)['image']\n",
    "    \n",
    "    label = self.labels[index]\n",
    "    return image, label\n",
    "\n",
    "class ValidDataset(Dataset):\n",
    "  def __init__(self, images, labels, transform=None):\n",
    "    self.images = images\n",
    "    self.labels = labels\n",
    "    self.transform = transform\n",
    "  def __len__(self):\n",
    "    return len(self.labels)\n",
    "  \n",
    "  def __getitem__(self, index):\n",
    "    image = self.images[index]\n",
    "\n",
    "    if self.transform is not None:\n",
    "      image = self.transform(image=image)['image']\n",
    "\n",
    "    label = self.labels[index]\n",
    "    return image, label"
   ]
  },
  {
   "cell_type": "code",
   "execution_count": 12,
   "metadata": {},
   "outputs": [],
   "source": [
    "# train과 valid에 사용할 transform을 선언한다.\n",
    "train_transform = A.Compose([\n",
    "    A.Resize(512, 512), \n",
    "    A.CenterCrop(384, 384),\n",
    "    # A.RandomBrightness(p=0.5),\n",
    "    A.RandomBrightnessContrast(brightness_limit=0.1, contrast_limit=0.15, p=0.5),\n",
    "    # A.ColorJitter(0.5, 0.5, 0.5, 0.25, p=0.5),\n",
    "    # A.OpticalDistortion(distort_limit=0.1, p=0.5),\n",
    "    A.Normalize(mean=(0.5, 0.5, 0.5), std=(0.5, 0.5, 0.5)),\n",
    "    ToTensorV2()\n",
    "])\n",
    "valid_transform = A.Compose([\n",
    "    A.Resize(512, 512), \n",
    "    A.CenterCrop(384, 384),\n",
    "    # A.RandomBrightness(p=0.5),\n",
    "    A.RandomBrightnessContrast(brightness_limit=0.1, contrast_limit=0.15, p=0.5),\n",
    "    A.Normalize(mean=(0.5, 0.5, 0.5), std=(0.5, 0.5, 0.5)),\n",
    "    ToTensorV2()\n",
    "])"
   ]
  },
  {
   "cell_type": "code",
   "execution_count": 13,
   "metadata": {},
   "outputs": [],
   "source": [
    "# train, valid dataset을 선언한다.\n",
    "train_dataset = TrainDataset(train_images, train_labels, train_transform)\n",
    "valid_dataset = ValidDataset(valid_images, valid_labels, valid_transform)"
   ]
  },
  {
   "cell_type": "code",
   "execution_count": 14,
   "metadata": {},
   "outputs": [],
   "source": [
    "# train. valid loader를 선언한다.\n",
    "train_loader = DataLoader(train_dataset, batch_size = batch_size, shuffle=True, drop_last=True)\n",
    "valid_loader = DataLoader(valid_dataset, batch_size = batch_size, shuffle=True, drop_last=True)"
   ]
  },
  {
   "cell_type": "markdown",
   "metadata": {},
   "source": [
    "<h3> Define Model & Train </h3>"
   ]
  },
  {
   "cell_type": "code",
   "execution_count": 15,
   "metadata": {},
   "outputs": [
    {
     "name": "stderr",
     "output_type": "stream",
     "text": [
      "/opt/conda/envs/serving/lib/python3.9/site-packages/torch/functional.py:445: UserWarning: torch.meshgrid: in an upcoming release, it will be required to pass the indexing argument. (Triggered internally at  ../aten/src/ATen/native/TensorShape.cpp:2157.)\n",
      "  return _VF.meshgrid(tensors, **kwargs)  # type: ignore[attr-defined]\n"
     ]
    }
   ],
   "source": [
    "# 사용할 timm 모델을 선정한다.\n",
    "model = timm.create_model('swinv2_large_window12to24_192to384_22kft1k', pretrained=True, num_classes=5).to(device)"
   ]
  },
  {
   "cell_type": "code",
   "execution_count": 16,
   "metadata": {},
   "outputs": [],
   "source": [
    "for param in model.parameters():\n",
    "    param.requires_grad = False\n",
    "\n",
    "in_features = model.head.in_features\n",
    "model.head = nn.Sequential(\n",
    "    nn.Linear(in_features, 5)\n",
    ").to(device)"
   ]
  },
  {
   "cell_type": "code",
   "execution_count": 17,
   "metadata": {},
   "outputs": [],
   "source": [
    "# optimizer와 loss function을 정의한다.\n",
    "optimizer = optim.AdamW(model.parameters(), lr=learning_rate)\n",
    "criterion = nn.CrossEntropyLoss()"
   ]
  },
  {
   "cell_type": "code",
   "execution_count": 18,
   "metadata": {},
   "outputs": [
    {
     "name": "stdout",
     "output_type": "stream",
     "text": [
      "epoch: 0/100 train_loss: 1.2866 train_accuracy: 0.54407 val_loss: 1.1596 val_accuracy: 0.43723\n",
      "Save Model(Epoch: 0, Accuracy: 0.43723)\n",
      "epoch: 1/100 train_loss: 1.0426 train_accuracy: 0.62352 val_loss: 1.067 val_accuracy: 0.47403\n",
      "Save Model(Epoch: 1, Accuracy: 0.47403)\n",
      "epoch: 2/100 train_loss: 0.95012 train_accuracy: 0.64585 val_loss: 1.0182 val_accuracy: 0.49567\n",
      "Save Model(Epoch: 2, Accuracy: 0.49567)\n",
      "epoch: 3/100 train_loss: 0.89439 train_accuracy: 0.65494 val_loss: 0.99293 val_accuracy: 0.50866\n",
      "Save Model(Epoch: 3, Accuracy: 0.50866)\n",
      "epoch: 4/100 train_loss: 0.86128 train_accuracy: 0.66818 val_loss: 1.0297 val_accuracy: 0.47403\n",
      "epoch: 5/100 train_loss: 0.83014 train_accuracy: 0.67648 val_loss: 0.97152 val_accuracy: 0.52381\n",
      "Save Model(Epoch: 5, Accuracy: 0.52381)\n",
      "epoch: 6/100 train_loss: 0.80247 train_accuracy: 0.68498 val_loss: 0.95442 val_accuracy: 0.53463\n",
      "Save Model(Epoch: 6, Accuracy: 0.53463)\n",
      "epoch: 7/100 train_loss: 0.78618 train_accuracy: 0.69249 val_loss: 0.95383 val_accuracy: 0.52165\n",
      "epoch: 8/100 train_loss: 0.76673 train_accuracy: 0.69447 val_loss: 0.95131 val_accuracy: 0.53896\n",
      "Save Model(Epoch: 8, Accuracy: 0.53896)\n",
      "epoch: 9/100 train_loss: 0.75875 train_accuracy: 0.70514 val_loss: 0.93275 val_accuracy: 0.55844\n",
      "Save Model(Epoch: 9, Accuracy: 0.55844)\n",
      "epoch: 10/100 train_loss: 0.74616 train_accuracy: 0.7087 val_loss: 0.93288 val_accuracy: 0.56926\n",
      "Save Model(Epoch: 10, Accuracy: 0.56926)\n",
      "epoch: 11/100 train_loss: 0.73348 train_accuracy: 0.71028 val_loss: 0.9258 val_accuracy: 0.56061\n",
      "epoch: 12/100 train_loss: 0.72118 train_accuracy: 0.71937 val_loss: 0.93079 val_accuracy: 0.55628\n",
      "epoch: 13/100 train_loss: 0.70994 train_accuracy: 0.72075 val_loss: 0.92856 val_accuracy: 0.55195\n",
      "epoch: 14/100 train_loss: 0.69966 train_accuracy: 0.72431 val_loss: 0.964 val_accuracy: 0.5303\n",
      "epoch: 15/100 train_loss: 0.69566 train_accuracy: 0.72767 val_loss: 0.96838 val_accuracy: 0.52814\n",
      "epoch: 16/100 train_loss: 0.68668 train_accuracy: 0.72945 val_loss: 0.93767 val_accuracy: 0.57359\n",
      "Save Model(Epoch: 16, Accuracy: 0.57359)\n",
      "epoch: 17/100 train_loss: 0.67875 train_accuracy: 0.73498 val_loss: 0.91062 val_accuracy: 0.60173\n",
      "Save Model(Epoch: 17, Accuracy: 0.60173)\n",
      "epoch: 18/100 train_loss: 0.67631 train_accuracy: 0.73814 val_loss: 0.90691 val_accuracy: 0.58442\n",
      "epoch: 19/100 train_loss: 0.66904 train_accuracy: 0.73123 val_loss: 0.91674 val_accuracy: 0.5974\n",
      "epoch: 20/100 train_loss: 0.65852 train_accuracy: 0.74506 val_loss: 0.94954 val_accuracy: 0.51948\n",
      "epoch: 21/100 train_loss: 0.65723 train_accuracy: 0.73538 val_loss: 0.91808 val_accuracy: 0.5671\n",
      "epoch: 22/100 train_loss: 0.65267 train_accuracy: 0.73933 val_loss: 0.90228 val_accuracy: 0.55844\n",
      "epoch: 23/100 train_loss: 0.6474 train_accuracy: 0.73814 val_loss: 0.89107 val_accuracy: 0.60606\n",
      "Save Model(Epoch: 23, Accuracy: 0.60606)\n",
      "epoch: 24/100 train_loss: 0.63988 train_accuracy: 0.74387 val_loss: 0.91416 val_accuracy: 0.57792\n",
      "epoch: 25/100 train_loss: 0.64254 train_accuracy: 0.74466 val_loss: 0.90697 val_accuracy: 0.57576\n",
      "epoch: 26/100 train_loss: 0.63412 train_accuracy: 0.74783 val_loss: 0.9026 val_accuracy: 0.60173\n",
      "epoch: 27/100 train_loss: 0.63236 train_accuracy: 0.75059 val_loss: 0.90606 val_accuracy: 0.58225\n",
      "epoch: 28/100 train_loss: 0.62398 train_accuracy: 0.75296 val_loss: 0.89352 val_accuracy: 0.57792\n",
      "epoch: 29/100 train_loss: 0.61904 train_accuracy: 0.75296 val_loss: 0.89483 val_accuracy: 0.5974\n",
      "epoch: 30/100 train_loss: 0.61982 train_accuracy: 0.75178 val_loss: 0.88013 val_accuracy: 0.58225\n",
      "epoch: 31/100 train_loss: 0.61444 train_accuracy: 0.75711 val_loss: 0.899 val_accuracy: 0.57792\n",
      "epoch: 32/100 train_loss: 0.61502 train_accuracy: 0.75751 val_loss: 0.92314 val_accuracy: 0.56494\n",
      "epoch: 33/100 train_loss: 0.60958 train_accuracy: 0.75474 val_loss: 0.88792 val_accuracy: 0.60606\n",
      "epoch: 34/100 train_loss: 0.60441 train_accuracy: 0.76502 val_loss: 0.86488 val_accuracy: 0.61255\n",
      "Save Model(Epoch: 34, Accuracy: 0.61255)\n",
      "epoch: 35/100 train_loss: 0.60021 train_accuracy: 0.76443 val_loss: 0.9094 val_accuracy: 0.56926\n",
      "epoch: 36/100 train_loss: 0.604 train_accuracy: 0.76028 val_loss: 0.91781 val_accuracy: 0.57792\n",
      "epoch: 37/100 train_loss: 0.60078 train_accuracy: 0.76779 val_loss: 0.9035 val_accuracy: 0.56277\n",
      "epoch: 38/100 train_loss: 0.59868 train_accuracy: 0.76561 val_loss: 0.8962 val_accuracy: 0.58874\n",
      "epoch: 39/100 train_loss: 0.59162 train_accuracy: 0.76739 val_loss: 0.88261 val_accuracy: 0.58225\n",
      "epoch: 40/100 train_loss: 0.5924 train_accuracy: 0.76285 val_loss: 0.86714 val_accuracy: 0.60606\n",
      "epoch: 41/100 train_loss: 0.58519 train_accuracy: 0.76838 val_loss: 0.89962 val_accuracy: 0.56926\n",
      "epoch: 42/100 train_loss: 0.5862 train_accuracy: 0.76581 val_loss: 0.87471 val_accuracy: 0.58874\n",
      "epoch: 43/100 train_loss: 0.58416 train_accuracy: 0.76957 val_loss: 0.86785 val_accuracy: 0.5974\n",
      "epoch: 44/100 train_loss: 0.57978 train_accuracy: 0.77194 val_loss: 0.87658 val_accuracy: 0.59957\n",
      "epoch: 45/100 train_loss: 0.58123 train_accuracy: 0.7664 val_loss: 0.86865 val_accuracy: 0.61255\n",
      "epoch: 46/100 train_loss: 0.58032 train_accuracy: 0.77451 val_loss: 0.90363 val_accuracy: 0.57143\n",
      "epoch: 47/100 train_loss: 0.57396 train_accuracy: 0.77668 val_loss: 0.84764 val_accuracy: 0.62121\n",
      "Save Model(Epoch: 47, Accuracy: 0.62121)\n",
      "epoch: 48/100 train_loss: 0.57639 train_accuracy: 0.76996 val_loss: 0.93852 val_accuracy: 0.56926\n",
      "epoch: 49/100 train_loss: 0.57813 train_accuracy: 0.77292 val_loss: 0.88813 val_accuracy: 0.58442\n",
      "epoch: 50/100 train_loss: 0.57611 train_accuracy: 0.76759 val_loss: 0.90179 val_accuracy: 0.59307\n",
      "epoch: 51/100 train_loss: 0.56683 train_accuracy: 0.77806 val_loss: 0.89645 val_accuracy: 0.56926\n",
      "epoch: 52/100 train_loss: 0.56517 train_accuracy: 0.7753 val_loss: 0.89359 val_accuracy: 0.59524\n",
      "epoch: 53/100 train_loss: 0.56278 train_accuracy: 0.77648 val_loss: 0.87759 val_accuracy: 0.58225\n",
      "epoch: 54/100 train_loss: 0.56727 train_accuracy: 0.77352 val_loss: 0.87204 val_accuracy: 0.61255\n",
      "epoch: 55/100 train_loss: 0.56168 train_accuracy: 0.7751 val_loss: 0.90052 val_accuracy: 0.58225\n",
      "epoch: 56/100 train_loss: 0.56293 train_accuracy: 0.77885 val_loss: 0.9361 val_accuracy: 0.57143\n",
      "epoch: 57/100 train_loss: 0.56299 train_accuracy: 0.78043 val_loss: 0.87923 val_accuracy: 0.58874\n",
      "epoch: 58/100 train_loss: 0.55661 train_accuracy: 0.77668 val_loss: 0.89094 val_accuracy: 0.59307\n",
      "epoch: 59/100 train_loss: 0.55608 train_accuracy: 0.78024 val_loss: 0.90108 val_accuracy: 0.58442\n",
      "epoch: 60/100 train_loss: 0.55373 train_accuracy: 0.78538 val_loss: 0.86599 val_accuracy: 0.5974\n",
      "epoch: 61/100 train_loss: 0.55303 train_accuracy: 0.7836 val_loss: 0.88648 val_accuracy: 0.59091\n",
      "epoch: 62/100 train_loss: 0.55226 train_accuracy: 0.78083 val_loss: 0.89683 val_accuracy: 0.58442\n",
      "epoch: 63/100 train_loss: 0.54881 train_accuracy: 0.78557 val_loss: 0.91134 val_accuracy: 0.59524\n",
      "epoch: 64/100 train_loss: 0.54936 train_accuracy: 0.78439 val_loss: 0.89304 val_accuracy: 0.59957\n",
      "epoch: 65/100 train_loss: 0.54369 train_accuracy: 0.78814 val_loss: 0.86812 val_accuracy: 0.59957\n",
      "epoch: 66/100 train_loss: 0.54661 train_accuracy: 0.78439 val_loss: 0.88714 val_accuracy: 0.5974\n",
      "epoch: 67/100 train_loss: 0.54541 train_accuracy: 0.78162 val_loss: 0.88573 val_accuracy: 0.59307\n",
      "epoch: 68/100 train_loss: 0.53944 train_accuracy: 0.78755 val_loss: 0.9044 val_accuracy: 0.58442\n",
      "epoch: 69/100 train_loss: 0.54819 train_accuracy: 0.77905 val_loss: 0.88296 val_accuracy: 0.58658\n",
      "epoch: 70/100 train_loss: 0.53962 train_accuracy: 0.78557 val_loss: 0.89224 val_accuracy: 0.6039\n",
      "epoch: 71/100 train_loss: 0.53673 train_accuracy: 0.78814 val_loss: 0.90841 val_accuracy: 0.59307\n",
      "epoch: 72/100 train_loss: 0.5379 train_accuracy: 0.78498 val_loss: 0.89776 val_accuracy: 0.58874\n",
      "epoch: 73/100 train_loss: 0.53826 train_accuracy: 0.78577 val_loss: 0.91521 val_accuracy: 0.58009\n",
      "epoch: 74/100 train_loss: 0.53132 train_accuracy: 0.78636 val_loss: 0.95455 val_accuracy: 0.56494\n",
      "epoch: 75/100 train_loss: 0.53961 train_accuracy: 0.78241 val_loss: 0.87819 val_accuracy: 0.60173\n",
      "epoch: 76/100 train_loss: 0.53562 train_accuracy: 0.79209 val_loss: 0.88161 val_accuracy: 0.5974\n",
      "epoch: 77/100 train_loss: 0.53122 train_accuracy: 0.79585 val_loss: 0.9268 val_accuracy: 0.57143\n",
      "epoch: 78/100 train_loss: 0.53161 train_accuracy: 0.79032 val_loss: 0.91661 val_accuracy: 0.57792\n",
      "epoch: 79/100 train_loss: 0.52822 train_accuracy: 0.78893 val_loss: 0.89431 val_accuracy: 0.58225\n",
      "epoch: 80/100 train_loss: 0.53418 train_accuracy: 0.78893 val_loss: 0.91151 val_accuracy: 0.58442\n",
      "epoch: 81/100 train_loss: 0.53312 train_accuracy: 0.78834 val_loss: 0.88085 val_accuracy: 0.58009\n",
      "epoch: 82/100 train_loss: 0.5261 train_accuracy: 0.79051 val_loss: 0.89087 val_accuracy: 0.59524\n",
      "epoch: 83/100 train_loss: 0.52846 train_accuracy: 0.78933 val_loss: 0.86514 val_accuracy: 0.62554\n",
      "Save Model(Epoch: 83, Accuracy: 0.62554)\n",
      "epoch: 84/100 train_loss: 0.52616 train_accuracy: 0.79447 val_loss: 0.8902 val_accuracy: 0.61255\n",
      "epoch: 85/100 train_loss: 0.52956 train_accuracy: 0.79209 val_loss: 0.90285 val_accuracy: 0.57143\n",
      "epoch: 86/100 train_loss: 0.52238 train_accuracy: 0.79644 val_loss: 0.88923 val_accuracy: 0.59957\n",
      "epoch: 87/100 train_loss: 0.52283 train_accuracy: 0.7913 val_loss: 0.90795 val_accuracy: 0.57359\n",
      "epoch: 88/100 train_loss: 0.52451 train_accuracy: 0.79506 val_loss: 0.90179 val_accuracy: 0.58658\n",
      "epoch: 89/100 train_loss: 0.52533 train_accuracy: 0.79111 val_loss: 0.89406 val_accuracy: 0.58442\n",
      "epoch: 90/100 train_loss: 0.51908 train_accuracy: 0.79466 val_loss: 0.88606 val_accuracy: 0.58874\n",
      "epoch: 91/100 train_loss: 0.51585 train_accuracy: 0.79862 val_loss: 0.8694 val_accuracy: 0.61472\n",
      "epoch: 92/100 train_loss: 0.52041 train_accuracy: 0.79229 val_loss: 0.92777 val_accuracy: 0.58874\n",
      "epoch: 93/100 train_loss: 0.51437 train_accuracy: 0.79387 val_loss: 0.92135 val_accuracy: 0.58442\n",
      "epoch: 94/100 train_loss: 0.52037 train_accuracy: 0.79387 val_loss: 0.88659 val_accuracy: 0.59307\n",
      "epoch: 95/100 train_loss: 0.51492 train_accuracy: 0.79783 val_loss: 0.90434 val_accuracy: 0.58009\n",
      "epoch: 96/100 train_loss: 0.51531 train_accuracy: 0.79486 val_loss: 0.9193 val_accuracy: 0.58225\n",
      "epoch: 97/100 train_loss: 0.51498 train_accuracy: 0.7913 val_loss: 0.90037 val_accuracy: 0.58658\n",
      "epoch: 98/100 train_loss: 0.51308 train_accuracy: 0.79249 val_loss: 0.89918 val_accuracy: 0.60606\n",
      "epoch: 99/100 train_loss: 0.51452 train_accuracy: 0.79387 val_loss: 0.92518 val_accuracy: 0.57359\n",
      "Best Accuracy: 0.62554\n"
     ]
    }
   ],
   "source": [
    "train_loss_list = []                                                # 이후 학습 그래프를 그리기 위해 선언한 리스트 들이다. loss값과 accuracy값을 각각 저장한다.\n",
    "train_acc_list = []\n",
    "val_loss_list = []\n",
    "val_acc_list = []\n",
    "\n",
    "total_train_image = len(train_dataset)                              # 총 학습 이미지의 개수를 의미한다.\n",
    "total_train_batch = len(train_loader)                               # 각 에포크 당 미니 배치 개수를 의미한다.\n",
    "total_val_image = len(valid_dataset)    \n",
    "total_val_batch = len(valid_loader)\n",
    "\n",
    "best_accuracy = 0\n",
    "for epoch in range(total_epoch):                                    # total_epoch 값 만큼 epoch 실행한다.\n",
    "  model.train()                                                     # model 학습 모드로 변경한다.\n",
    "  train_accuracy = 0                                                # 해당 epoch의 accuracy와 loss를 저장할 변수 선언한다.\n",
    "  train_loss = 0                        \n",
    "  for images, labels in train_loader:   \n",
    "    images = images.to(device)\n",
    "    labels = labels.to(device)\n",
    "    \n",
    "    hypothesis = model(images)                                      \n",
    "    loss = criterion(hypothesis, labels)                            \n",
    "\n",
    "    optimizer.zero_grad()\n",
    "    loss.backward()\n",
    "    optimizer.step()\n",
    "\n",
    "    prediction = torch.argmax(hypothesis, 1)                        # 학습 이미지에 대해 모델이 예측한 label을 저장한다.\n",
    "    correct = (prediction == labels)                                # 정답 label들과 비교한다.\n",
    "    train_accuracy += correct.sum().item() / total_train_image      # accuracy 값을 갱신한다.\n",
    "    train_loss += loss.item() / total_train_batch                   # loss 값을 갱신한다.\n",
    "\n",
    "  model.eval()\n",
    "  val_accuracy = 0\n",
    "  val_loss = 0\n",
    "  for images, labels in valid_loader:\n",
    "    images = images.to(device)\n",
    "    labels = labels.to(device)\n",
    "\n",
    "    prediction = model(images)\n",
    "    loss = criterion(prediction, labels)\n",
    "    correct = (torch.argmax(prediction, 1) == labels)\n",
    "    val_accuracy += correct.sum().item() / total_val_image\n",
    "    val_loss += loss.item() / total_val_batch\n",
    "\n",
    "  print(f'epoch: {epoch}/{total_epoch} train_loss: {train_loss:.5} train_accuracy: {train_accuracy:.5} val_loss: {val_loss:.5} val_accuracy: {val_accuracy:.5}')\n",
    "  with open('result.txt', 'a') as f:\n",
    "    f.write(f'epoch: {epoch}/{total_epoch} train_loss: {train_loss:.5} train_accuracy: {train_accuracy:.5} val_loss: {val_loss:.5} val_accuracy: {val_accuracy:.5}\\n')\n",
    "  train_acc_list.append(train_accuracy)\n",
    "  train_loss_list.append(train_loss)\n",
    "  val_acc_list.append(val_accuracy)\n",
    "  val_loss_list.append(val_loss)\n",
    "\n",
    "  if best_accuracy < val_accuracy:\n",
    "    torch.save(model.state_dict(), 'model.pt')\n",
    "    best_accuracy = val_accuracy\n",
    "    print(f\"Save Model(Epoch: {epoch}, Accuracy: {best_accuracy:.5})\")\n",
    "\n",
    "print(f'Best Accuracy: {best_accuracy:.5}')"
   ]
  },
  {
   "cell_type": "markdown",
   "metadata": {},
   "source": [
    "<h3> Result </h3>"
   ]
  },
  {
   "cell_type": "code",
   "execution_count": 19,
   "metadata": {},
   "outputs": [
    {
     "data": {
      "image/png": "[encoded data removed]",
      "text/plain": [
       "<Figure size 432x288 with 1 Axes>"
      ]
     },
     "metadata": {
      "needs_background": "light"
     },
     "output_type": "display_data"
    }
   ],
   "source": [
    "plt.plot(train_loss_list, label='train_loss')\n",
    "plt.plot(val_loss_list, label='val_loss')\n",
    "plt.legend()\n",
    "plt.xlabel('epochs')\n",
    "plt.ylabel('loss')\n",
    "plt.show()"
   ]
  },
  {
   "cell_type": "code",
   "execution_count": 20,
   "metadata": {},
   "outputs": [
    {
     "data": {
      "image/png": "[encoded data removed]",
      "text/plain": [
       "<Figure size 432x288 with 1 Axes>"
      ]
     },
     "metadata": {
      "needs_background": "light"
     },
     "output_type": "display_data"
    }
   ],
   "source": [
    "plt.plot(train_acc_list, label='train_accuracy')\n",
    "plt.plot(val_acc_list, label='val_accuracy')\n",
    "plt.legend()\n",
    "plt.xlabel('epochs')\n",
    "plt.ylabel('accuracy')\n",
    "plt.show()"
   ]
  },
  {
   "cell_type": "markdown",
   "metadata": {},
   "source": [
    "<h3> Inference </h3>"
   ]
  },
  {
   "cell_type": "code",
   "execution_count": 21,
   "metadata": {},
   "outputs": [],
   "source": [
    "from pytorch_grad_cam import GradCAM, ScoreCAM, GradCAMPlusPlus, AblationCAM, XGradCAM, EigenCAM, FullGrad\n",
    "from pytorch_grad_cam.utils.model_targets import ClassifierOutputTarget\n",
    "from pytorch_grad_cam.utils.image import show_cam_on_image, preprocess_image"
   ]
  },
  {
   "cell_type": "code",
   "execution_count": null,
   "metadata": {},
   "outputs": [],
   "source": [
    "model = timm.create_model('swinv2_large_window12to24_192to384_22kft1k', pretrained=True).to(device)\n",
    "in_features = model.head.in_features\n",
    "model.head = nn.Sequential(\n",
    "    nn.Linear(in_features, 5)\n",
    ").to(device)\n",
    "\n",
    "model.load_state_dict(torch.load('twin_v2_off_aug/model.pt'))\n",
    "model.eval()"
   ]
  },
  {
   "cell_type": "code",
   "execution_count": 23,
   "metadata": {},
   "outputs": [],
   "source": [
    "valid_path = 'dataset/valid/JPEGImages'\n",
    "file_list = os.listdir(valid_path)\n",
    "image_list = []\n",
    "\n",
    "for file in file_list:\n",
    "    if '.jpg' in file:\n",
    "        image_list.append(file)"
   ]
  },
  {
   "cell_type": "code",
   "execution_count": null,
   "metadata": {},
   "outputs": [],
   "source": [
    "def reshape_transform(tensor, height=12, width=12):\n",
    "    result = tensor.reshape(tensor.size(0),\n",
    "                            height, width, tensor.size(2))\n",
    "\n",
    "    # Bring the channels to the first dimension,\n",
    "    # like in CNNs.\n",
    "    result = result.transpose(2, 3).transpose(1, 2)\n",
    "    return result\n",
    "\n",
    "target_layers = [model.layers[-1].blocks[-1].norm1]\n",
    "\n",
    "cam = GradCAMPlusPlus(model=model, \n",
    "            target_layers=target_layers, \n",
    "            reshape_transform=reshape_transform, \n",
    "            use_cuda=torch.cuda.is_available())\n",
    "\n",
    "fig, axs = plt.subplots(nrows=1, ncols=2, figsize=(20, 10))\n",
    "rgb_img = cv2.imread(os.path.join(valid_path, image_list[150]), 1)[:, :, ::-1]\n",
    "rgb_img = cv2.resize(rgb_img, (384, 384))\n",
    "axs[0].imshow(rgb_img)\n",
    "axs[0].axis('off')\n",
    "\n",
    "rgb_img = np.float32(rgb_img) / 255\n",
    "\n",
    "input_tensor = preprocess_image(rgb_img, mean=[0.5, 0.5, 0.5], std=[0.5, 0.5, 0.5])\n",
    "\n",
    "grayscale_cam = cam(input_tensor=input_tensor,\n",
    "                    targets=None,)\n",
    "\n",
    "grayscale_cam = grayscale_cam[0, :]\n",
    "cam_image = show_cam_on_image(rgb_img, grayscale_cam, use_rgb=True)\n",
    "\n",
    "axs[1].imshow(cam_image)\n",
    "axs[1].axis('off')\n",
    "plt.show()"
   ]
  }
 ],
 "metadata": {
  "interpreter": {
   "hash": "69b02c503323c0614d613512f26b2662d23fed04f2ba3d80045908c1dc3d71d0"
  },
  "kernelspec": {
   "display_name": "Python 3 (ipykernel)",
   "language": "python",
   "name": "python3"
  },
  "language_info": {
   "codemirror_mode": {
    "name": "ipython",
    "version": 3
   },
   "file_extension": ".py",
   "mimetype": "text/x-python",
   "name": "python",
   "nbconvert_exporter": "python",
   "pygments_lexer": "ipython3",
   "version": "3.9.12"
  }
 },
 "nbformat": 4,
 "nbformat_minor": 4
}
