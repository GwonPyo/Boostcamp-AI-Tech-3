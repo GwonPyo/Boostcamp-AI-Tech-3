{
 "cells": [
  {
   "cell_type": "code",
   "execution_count": 1,
   "metadata": {},
   "outputs": [],
   "source": [
    "import os\n",
    "import cv2\n",
    "import json\n",
    "import numpy as np\n",
    "import pandas as pd\n",
    "import matplotlib.pyplot as plt\n",
    "\n",
    "import random\n",
    "random.seed(42)\n",
    "\n",
    "from PIL import Image"
   ]
  },
  {
   "cell_type": "code",
   "execution_count": 2,
   "metadata": {},
   "outputs": [],
   "source": [
    "key = 'oil'\n",
    "train_images = {0:[], 1:[], 2:[], 3:[]}                                     \n",
    "train_jsons = {0:[], 1:[], 2:[], 3:[]}\n",
    "train_path = './dataset/train' \n",
    "with open(os.path.join(train_path, \"annotations.json\"), \"r\") as json_file:\n",
    "    train_ann = json.load(json_file)\n",
    "images_info = train_ann['images']\n",
    "\n",
    "for image_info in images_info:\n",
    "    image_name = image_info['file_name']                                \n",
    "    file_name = image_name.replace('jpg', 'json')                       \n",
    "\n",
    "    with open(os.path.join(train_path, file_name), \"r\") as json_file:   \n",
    "        img_json = json.load(json_file)             \n",
    "    label = {}\n",
    "    label[key] = img_json[key]\n",
    "    if label[key] == -1: continue\n",
    "    \n",
    "    image_path = os.path.join(train_path, image_name)                   \n",
    "    image = cv2.imread(image_path)                                      \n",
    "    image = cv2.cvtColor(image, cv2.COLOR_BGR2RGB)\n",
    "    \n",
    "    part = img_json['part']\n",
    "    train_images[part].append(image)\n",
    "    train_jsons[part].append(label)"
   ]
  },
  {
   "cell_type": "code",
   "execution_count": 3,
   "metadata": {},
   "outputs": [],
   "source": [
    "combined_images = {0: [], 1: [], 2: [], 3: [], 4: []}\n",
    "\n",
    "aim = 5000\n",
    "\n",
    "forehead_num = len(train_images[1])-1\n",
    "nose_num = len(train_images[2])-1\n",
    "lip_num = len(train_images[3])-1\n",
    "\n",
    "num = 0\n",
    "while num < aim:\n",
    "    forehead_idx = random.randint(0, forehead_num)\n",
    "    nose_idx = random.randint(0, nose_num)\n",
    "    lip_idx = random.randint(0, lip_num)\n",
    "    label = round((train_jsons[1][forehead_idx][key]+train_jsons[2][nose_idx][key]) / 2)\n",
    "    \n",
    "    if len(combined_images[label]) >= 1000: continue\n",
    "    combined_image = np.concatenate((train_images[1][forehead_idx], train_images[2][nose_idx], train_images[3][lip_idx]), axis = 0)\n",
    "    combined_images[label].append(combined_image)\n",
    "    num += 1"
   ]
  },
  {
   "cell_type": "code",
   "execution_count": null,
   "metadata": {},
   "outputs": [],
   "source": [
    "labels_num = []\n",
    "\n",
    "for i in range(5):\n",
    "    labels_num.append(len(combined_images[i]))\n",
    "\n",
    "plt.bar(np.arange(5), labels_num)"
   ]
  },
  {
   "cell_type": "code",
   "execution_count": 5,
   "metadata": {},
   "outputs": [],
   "source": [
    "train_path = './dataset/train'\n",
    "save_path = os.path.join(train_path, f'combined_random_{key}_images')\n",
    "if not os.path.exists(os.path.join(save_path)):\n",
    "    os.mkdir(save_path)\n",
    "\n",
    "image_num = 0\n",
    "\n",
    "for label, images in combined_images.items():\n",
    "    json_content = {key: label}\n",
    "    for image in images:\n",
    "        img_name = str(image_num).zfill(4)\n",
    "        img = Image.fromarray(image)\n",
    "        img.save(os.path.join(save_path, img_name+'.jpg'))\n",
    "        with open(os.path.join(save_path, img_name+'.json'), 'w') as json_file:\n",
    "            json.dump(json_content, json_file)\n",
    "        image_num += 1"
   ]
  }
 ],
 "metadata": {
  "interpreter": {
   "hash": "69b02c503323c0614d613512f26b2662d23fed04f2ba3d80045908c1dc3d71d0"
  },
  "kernelspec": {
   "display_name": "Python 3.9.12 ('serving')",
   "language": "python",
   "name": "python3"
  },
  "language_info": {
   "codemirror_mode": {
    "name": "ipython",
    "version": 3
   },
   "file_extension": ".py",
   "mimetype": "text/x-python",
   "name": "python",
   "nbconvert_exporter": "python",
   "pygments_lexer": "ipython3",
   "version": "3.9.12"
  },
  "orig_nbformat": 4
 },
 "nbformat": 4,
 "nbformat_minor": 2
}
