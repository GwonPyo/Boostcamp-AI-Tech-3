{
 "cells": [
  {
   "cell_type": "code",
   "execution_count": 9,
   "metadata": {},
   "outputs": [],
   "source": [
    "import os\n",
    "import cv2\n",
    "import json\n",
    "import numpy as np\n",
    "import pandas as pd\n",
    "import matplotlib.pyplot as plt\n",
    "import matplotlib.image as img"
   ]
  },
  {
   "cell_type": "code",
   "execution_count": null,
   "metadata": {},
   "outputs": [],
   "source": [
    "train_categories = {\n",
    "    'category1':[],\n",
    "    'category2':[],\n",
    "    'category3':[],\n",
    "    'category4':[],\n",
    "    'category5':[],\n",
    "}\n",
    "\n",
    "with open(\"../dataset/train/part_0.json\", \"r\") as json_file:\n",
    "    train_ann = json.load(json_file)\n",
    "\n",
    "# 각 카테고리 별 라벨값 저장\n",
    "for image in train_ann:\n",
    "    for key in image.keys():\n",
    "        if key=='part' or key == 'file_name': continue\n",
    "        train_categories[key].append(image[key])  \n",
    "\n",
    "plt.figure(figsize=(20, 10))\n",
    "\n",
    "# 각 카테고리 별 그래프 작성 \n",
    "for index, key in enumerate(train_categories.keys()):\n",
    "    df_train = pd.DataFrame(train_categories[key])\n",
    "    train_values = df_train[0].value_counts().sort_index()              # 라벨 별 개수가 저장되는 series 생성\n",
    "\n",
    "    plt.subplot(2, 3, index+1)                                          # 올바른 위치에 그래프 작성\n",
    "    plt.bar(x=train_values.index, height=train_values.values)           # 라벨을 x축, 라벨의 개수를 y축에 작성\n",
    "    plt.xticks(np.arange(-2, 6))\n",
    "\n",
    "    for index, value in zip(train_values.index, train_values.values):   # 각 막대 위에 값 작성\n",
    "        plt.text(index, value, value,\n",
    "        horizontalalignment='center',\n",
    "        verticalalignment='bottom')\n",
    "\n",
    "    plt.title(key)\n",
    "plt.show()"
   ]
  },
  {
   "cell_type": "code",
   "execution_count": null,
   "metadata": {},
   "outputs": [],
   "source": [
    "# 카테고리를 선정하고 해당 카테고리의 각 라벨별 사진 5개씩 출력해보는 코드.\n",
    "import random\n",
    "random.seed(100)\n",
    "keys = ['category1', 'category2', 'category3']\n",
    "\n",
    "with open(\"../dataset/train/part_0.json\", \"r\") as json_file:\n",
    "    train_ann = json.load(json_file)\n",
    "random.shuffle(train_ann)\n",
    "aim = 0\n",
    "key = keys[2] # 0~2 선택\n",
    "fig, axs = plt.subplots(5, 5, figsize=(18, 15))\n",
    "for label in range(0, 5):\n",
    "    num = 0\n",
    "    for labels in train_ann:\n",
    "        if num == 5: break                                                          \n",
    "        if label == labels[key]:                                                    \n",
    "            file_name = labels['file_name']\n",
    "            image_path = os.path.join('../dataset/train/JPEGImages', file_name)\n",
    "            image = img.imread(image_path)\n",
    "            axs[label][num].imshow(image)\n",
    "            axs[label][num].set_title(f'{key}: {label}')\n",
    "            axs[label][num].axis('off')\n",
    "            num += 1"
   ]
  }
 ],
 "metadata": {
  "interpreter": {
   "hash": "5d0c2b1480244832d7dbf237984b0f05a268e3e22e4477542a885f8374c01bd9"
  },
  "kernelspec": {
   "display_name": "Python 3.10.4 ('open-mmlab')",
   "language": "python",
   "name": "python3"
  },
  "language_info": {
   "codemirror_mode": {
    "name": "ipython",
    "version": 3
   },
   "file_extension": ".py",
   "mimetype": "text/x-python",
   "name": "python",
   "nbconvert_exporter": "python",
   "pygments_lexer": "ipython3",
   "version": "3.10.4"
  },
  "orig_nbformat": 4
 },
 "nbformat": 4,
 "nbformat_minor": 2
}
