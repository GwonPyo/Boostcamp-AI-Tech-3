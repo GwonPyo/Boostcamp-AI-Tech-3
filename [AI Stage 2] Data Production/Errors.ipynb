{
 "cells": [
  {
   "cell_type": "markdown",
   "metadata": {},
   "source": [
    "<h3> <strong> Error loading preloads: Could not find renderer </strong> </h3> \n",
    "\n",
    "VS code에 jupyter, python 등의 extension을 설치하고 kernel을 install했을 때 재시작하지 않으면 다음과 같은 문제가 발생한다. <br>\n",
    "해당 문제가 발생하면 에러가 발생해도 아무런 에러 문구가 발생하지 않는다. <br>\n",
    "해당 문구가 발생하면 VS code를 재시작하면 해결된다."
   ]
  },
  {
   "cell_type": "markdown",
   "metadata": {},
   "source": [
    "<h3> <strong> install cv2 </strong> </h3>\n",
    "\n",
    "cv2를 설치하기 위해서는 pip install cv2가 아니라 다음 명령을 사용해야 한다.\n",
    "* pip install opencv-python"
   ]
  },
  {
   "cell_type": "markdown",
   "metadata": {},
   "source": [
    "<h3> <strong> import cv2 Error </strong> </h3>\n",
    "\n",
    "cv2 import시 다음과 같은 에러가 발생했다.\n",
    "* libGL.so.1: cannot open shared object file: No such file or directory\n",
    "\n",
    "해당 문제가 발생했을 때 다음과 같은 명령을 터미널에 입력하면 해결할 수 있다.\n",
    "* apt-get install libgl1-mesa-glx"
   ]
  }
 ],
 "metadata": {
  "kernelspec": {
   "display_name": "Python 3 (ipykernel)",
   "language": "python",
   "name": "python3"
  },
  "language_info": {
   "codemirror_mode": {
    "name": "ipython",
    "version": 3
   },
   "file_extension": ".py",
   "mimetype": "text/x-python",
   "name": "python",
   "nbconvert_exporter": "python",
   "pygments_lexer": "ipython3",
   "version": "3.8.5"
  }
 },
 "nbformat": 4,
 "nbformat_minor": 4
}
