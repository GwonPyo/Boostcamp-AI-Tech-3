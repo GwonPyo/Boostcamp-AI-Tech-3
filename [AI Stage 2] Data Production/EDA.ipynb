{
 "cells": [
  {
   "cell_type": "code",
   "execution_count": 1,
   "id": "ad372403-748d-452e-9a2b-42e5ffd987bd",
   "metadata": {},
   "outputs": [],
   "source": [
    "import numpy as np\n",
    "import pandas as pd\n",
    "import matplotlib.pyplot as plt\n",
    "import cv2\n",
    "import os\n",
    "import json\n",
    "from PIL import Image"
   ]
  },
  {
   "cell_type": "code",
   "execution_count": 2,
   "id": "f5d22ac9",
   "metadata": {},
   "outputs": [],
   "source": [
    "# 라벨링하려는 이미지들의 annotation이 기록된 json파일을 불러옴\n",
    "json_path = './input/data/ICDAR17_Korean/ufo/ex_train.json'\n",
    "with open(json_path, \"r\") as json_file:\n",
    "    train_json = json.load(json_file)"
   ]
  },
  {
   "cell_type": "code",
   "execution_count": 3,
   "id": "46ec9607",
   "metadata": {},
   "outputs": [
    {
     "data": {
      "text/plain": [
       "dict_keys(['images'])"
      ]
     },
     "execution_count": 3,
     "metadata": {},
     "output_type": "execute_result"
    }
   ],
   "source": [
    "# annotation의 key 확인\n",
    "train_json.keys()"
   ]
  },
  {
   "cell_type": "code",
   "execution_count": 4,
   "id": "5ead425e-abfc-4412-afb3-fb3cfc918aa1",
   "metadata": {},
   "outputs": [
    {
     "name": "stdout",
     "output_type": "stream",
     "text": [
      "{'0': {'points': [[662.0, 747.0], [945.0, 759.0], [922.0, 1582.0], [673.0, 1565.0]], 'transcription': '출입금지', 'language': ['ko'], 'illegibility': False, 'orientation': 'Horizontal', 'word_tags': None}, '1': {'points': [[476.0, 551.0], [1132.0, 554.0], [1118.0, 747.0], [471.0, 716.0]], 'transcription': '오토바이', 'language': ['ko'], 'illegibility': False, 'orientation': 'Horizontal', 'word_tags': None}, '2': {'points': [[455.0, 293.0], [1144.0, 310.0], [1129.0, 518.0], [457.0, 496.0]], 'transcription': '자전거', 'language': ['ko'], 'illegibility': False, 'orientation': 'Horizontal', 'word_tags': None}}\n"
     ]
    }
   ],
   "source": [
    "# 각 image annotation의 키 확인\n",
    "for key in train_json['images'].keys():\n",
    "    img = train_json['images'][key]\n",
    "    print(img['words'])\n",
    "    break"
   ]
  },
  {
   "cell_type": "code",
   "execution_count": 13,
   "id": "c252b1ad",
   "metadata": {},
   "outputs": [],
   "source": [
    "img_path = './input/data/ICDAR17_Korean/images'\n",
    "save_path = './Eda_images'\n",
    "\n",
    "if not os.path.exists(save_path):\n",
    "    os.makedirs(save_path)\n",
    "\n",
    "illegibility_color = (255, 0, 0)\n",
    "legibility_color = (0, 0, 255)\n",
    "for key in train_json['images'].keys():\n",
    "    img = Image.open(os.path.join(img_path, key))\n",
    "    img = np.array(img, np.uint8)\n",
    "    transcriptions = []\n",
    "    for box in train_json['images'][key]['words'].values():\n",
    "        points = np.array(box['points'], np.int32)  # np.int32로 안할 시 오류 발생\n",
    "        transcriptions.append((box['transcription'], points[0]))\n",
    "        if box['illegibility'] == False:\n",
    "            img = cv2.polylines(img, [points], True, legibility_color, 7)\n",
    "        else:\n",
    "            img = cv2.polylines(img, [points], True, illegibility_color, 7)\n",
    "    img = Image.fromarray(img)\n",
    "    img.show()\n",
    "    break"
   ]
  },
  {
   "cell_type": "code",
   "execution_count": null,
   "id": "de5581e4",
   "metadata": {},
   "outputs": [],
   "source": []
  }
 ],
 "metadata": {
  "kernelspec": {
   "display_name": "Python 3 (ipykernel)",
   "language": "python",
   "name": "python3"
  },
  "language_info": {
   "codemirror_mode": {
    "name": "ipython",
    "version": 3
   },
   "file_extension": ".py",
   "mimetype": "text/x-python",
   "name": "python",
   "nbconvert_exporter": "python",
   "pygments_lexer": "ipython3",
   "version": "3.8.5"
  }
 },
 "nbformat": 4,
 "nbformat_minor": 5
}
