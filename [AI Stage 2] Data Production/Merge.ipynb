{
 "cells": [
  {
   "cell_type": "code",
   "execution_count": 20,
   "id": "1ef54c4b-b18c-41bd-9f2f-41480043102a",
   "metadata": {},
   "outputs": [],
   "source": [
    "import numpy as np\n",
    "import pandas as pd\n",
    "import matplotlib.pyplot as plt\n",
    "import cv2\n",
    "import os\n",
    "import json\n",
    "from PIL import Image"
   ]
  },
  {
   "cell_type": "code",
   "execution_count": 21,
   "id": "602b21ed-d94b-483b-accd-2e3bfe5f9bba",
   "metadata": {},
   "outputs": [],
   "source": [
    "json_path = './input/data/ICDAR17_Korean/ufo/ex_train.json'\n",
    "dataset_path = './input/data/ICDAR17_Korean/ufo/annotation.json'\n",
    "with open(json_path, \"r\") as json_file:\n",
    "    train_json = json.load(json_file)\n",
    "with open(dataset_path, \"r\") as json_file:\n",
    "    dataset_json = json.load(json_file)"
   ]
  },
  {
   "cell_type": "code",
   "execution_count": 27,
   "id": "ad64bbad-19a3-408e-a377-465ce866a666",
   "metadata": {},
   "outputs": [],
   "source": [
    "files = [train_json,dataset_json]\n",
    "def merge_file(files):\n",
    "    total_train = dict(images=dict())\n",
    "    for f in files:\n",
    "        conv = False\n",
    "        images = f['images']\n",
    "        for img in images.keys():\n",
    "            words = images[img]['words']\n",
    "            if len(words) <= 0: continue\n",
    "            for key, word in words.items():\n",
    "                points = word['points']\n",
    "                if len(points) > 4:\n",
    "                    min_x = float('inf'); max_x = -1 \n",
    "                    min_y = float('inf'); max_y = -1\n",
    "                    for x, y in points:\n",
    "                        min_x = min(min_x, x); max_x = max(max_x, x)\n",
    "                        min_y = min(min_y, y); max_y = max(max_y, y)\n",
    "                    top_left = [min_x, min_y]; top_right = [max_x, min_y]\n",
    "                    bot_left = [min_x, max_y]; bot_right = [max_x, max_y]\n",
    "                    \n",
    "                    f['images'][img]['words'][key]['points'] = [top_left, top_right, bot_right, bot_left]\n",
    "                    \n",
    "            \n",
    "            total_train['images'][img] = f['images'][img]\n",
    "            \n",
    "    return total_train\n",
    "\n",
    "train = merge_file(files)\n"
   ]
  },
  {
   "cell_type": "code",
   "execution_count": 28,
   "id": "2414accb-9d06-492d-bab5-f7fc683240bc",
   "metadata": {},
   "outputs": [],
   "source": [
    "with open('./input/data/ICDAR17_Korean/ufo/train.json','w') as f:\n",
    "  json.dump(train, f, ensure_ascii=False, indent=4)"
   ]
  }
 ],
 "metadata": {
  "kernelspec": {
   "display_name": "Python 3 (ipykernel)",
   "language": "python",
   "name": "python3"
  },
  "language_info": {
   "codemirror_mode": {
    "name": "ipython",
    "version": 3
   },
   "file_extension": ".py",
   "mimetype": "text/x-python",
   "name": "python",
   "nbconvert_exporter": "python",
   "pygments_lexer": "ipython3",
   "version": "3.8.5"
  }
 },
 "nbformat": 4,
 "nbformat_minor": 5
}
