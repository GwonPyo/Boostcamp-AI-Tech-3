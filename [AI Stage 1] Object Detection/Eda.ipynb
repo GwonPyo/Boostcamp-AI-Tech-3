{
 "cells": [
  {
   "cell_type": "code",
   "execution_count": 17,
   "metadata": {},
   "outputs": [],
   "source": [
    "import pandas as pd\n",
    "import numpy as np\n",
    "import matplotlib.pyplot as plt\n",
    "import os\n",
    "import json"
   ]
  },
  {
   "cell_type": "code",
   "execution_count": 22,
   "metadata": {},
   "outputs": [
    {
     "ename": "NameError",
     "evalue": "name 'train_json' is not defined",
     "output_type": "error",
     "traceback": [
      "\u001b[0;31m---------------------------------------------------------------------------\u001b[0m",
      "\u001b[0;31mNameError\u001b[0m                                 Traceback (most recent call last)",
      "\u001b[0;32m/tmp/ipykernel_133/3677067332.py\u001b[0m in \u001b[0;36m<module>\u001b[0;34m\u001b[0m\n\u001b[1;32m      1\u001b[0m \u001b[0;32mwith\u001b[0m \u001b[0mopen\u001b[0m\u001b[0;34m(\u001b[0m\u001b[0;34m\"../dataset/train.json\"\u001b[0m\u001b[0;34m,\u001b[0m \u001b[0;34m\"r\"\u001b[0m\u001b[0;34m)\u001b[0m \u001b[0;32mas\u001b[0m \u001b[0mjson_file\u001b[0m\u001b[0;34m:\u001b[0m\u001b[0;34m\u001b[0m\u001b[0;34m\u001b[0m\u001b[0m\n\u001b[0;32m----> 2\u001b[0;31m     \u001b[0mjson\u001b[0m\u001b[0;34m.\u001b[0m\u001b[0mdump\u001b[0m\u001b[0;34m(\u001b[0m\u001b[0mtrain_json\u001b[0m\u001b[0;34m,\u001b[0m \u001b[0mjson_file\u001b[0m\u001b[0;34m)\u001b[0m\u001b[0;34m\u001b[0m\u001b[0;34m\u001b[0m\u001b[0m\n\u001b[0m",
      "\u001b[0;31mNameError\u001b[0m: name 'train_json' is not defined"
     ]
    }
   ],
   "source": [
    "with open(\"../dataset/train.json\", \"r\") as json_file:\n",
    "    json.dump(train_json, json_file)"
   ]
  },
  {
   "cell_type": "code",
   "execution_count": 30,
   "metadata": {},
   "outputs": [
    {
     "ename": "AttributeError",
     "evalue": "'str' object has no attribute 'keys'",
     "output_type": "error",
     "traceback": [
      "\u001b[0;31m---------------------------------------------------------------------------\u001b[0m",
      "\u001b[0;31mAttributeError\u001b[0m                            Traceback (most recent call last)",
      "\u001b[0;32m/tmp/ipykernel_99/812134096.py\u001b[0m in \u001b[0;36m<module>\u001b[0;34m\u001b[0m\n\u001b[0;32m----> 1\u001b[0;31m \u001b[0mtrain_json\u001b[0m\u001b[0;34m.\u001b[0m\u001b[0mkeys\u001b[0m\u001b[0;34m(\u001b[0m\u001b[0;34m)\u001b[0m\u001b[0;34m\u001b[0m\u001b[0;34m\u001b[0m\u001b[0m\n\u001b[0m",
      "\u001b[0;31mAttributeError\u001b[0m: 'str' object has no attribute 'keys'"
     ]
    }
   ],
   "source": [
    "train_json.keys()"
   ]
  },
  {
   "cell_type": "code",
   "execution_count": 16,
   "metadata": {},
   "outputs": [
    {
     "ename": "NameError",
     "evalue": "name 'train_json' is not defined",
     "output_type": "error",
     "traceback": [
      "\u001b[0;31m---------------------------------------------------------------------------\u001b[0m",
      "\u001b[0;31mNameError\u001b[0m                                 Traceback (most recent call last)",
      "\u001b[0;32m/tmp/ipykernel_133/3220473371.py\u001b[0m in \u001b[0;36m<module>\u001b[0;34m\u001b[0m\n\u001b[0;32m----> 1\u001b[0;31m \u001b[0mtrain_json\u001b[0m\u001b[0;34m[\u001b[0m\u001b[0;34m'categories'\u001b[0m\u001b[0;34m]\u001b[0m\u001b[0;34m\u001b[0m\u001b[0;34m\u001b[0m\u001b[0m\n\u001b[0m",
      "\u001b[0;31mNameError\u001b[0m: name 'train_json' is not defined"
     ]
    }
   ],
   "source": [
    "train_json['categories'] "
   ]
  },
  {
   "cell_type": "code",
   "execution_count": 39,
   "metadata": {},
   "outputs": [
    {
     "name": "stdout",
     "output_type": "stream",
     "text": [
      "class_names: ['General trash', 'Paper', 'Paper pack', 'Metal', 'Glass', 'Plastic', 'Styrofoam', 'Plastic bag', 'Battery', 'Clothing']\n"
     ]
    }
   ],
   "source": [
    "class_names = []\n",
    "for class_dict in train_json['categories']:\n",
    "    class_names.append(class_dict['name'])\n",
    "print(f\"class_names: {class_names}\")"
   ]
  },
  {
   "cell_type": "code",
   "execution_count": 43,
   "metadata": {},
   "outputs": [
    {
     "data": {
      "text/plain": [
       "{'image_id': 3,\n",
       " 'category_id': 2,\n",
       " 'area': 59550.94,\n",
       " 'bbox': [462.2, 369.4, 233.9, 254.6],\n",
       " 'iscrowd': 0,\n",
       " 'id': 10}"
      ]
     },
     "execution_count": 43,
     "metadata": {},
     "output_type": "execute_result"
    }
   ],
   "source": [
    "train_json['annotations'][10]"
   ]
  },
  {
   "cell_type": "code",
   "execution_count": 54,
   "metadata": {},
   "outputs": [
    {
     "name": "stdout",
     "output_type": "stream",
     "text": [
      "[8, {'General trash': 2, 'Paper': 0, 'Paper pack': 0, 'Metal': 1, 'Glass': 1, 'Plastic': 2, 'Styrofoam': 0, 'Plastic bag': 2, 'Battery': 0, 'Clothing': 0}]\n"
     ]
    }
   ],
   "source": [
    "objects_num = [[0, {'General trash':0, 'Paper':0, 'Paper pack':0, 'Metal':0, 'Glass':0, 'Plastic':0, 'Styrofoam':0, 'Plastic bag':0, 'Battery':0, 'Clothing':0}] for _ in range(4883)]\n",
    "for image_object in train_json['annotations']:\n",
    "    index = image_object['image_id']\n",
    "    objects_num[index][0] += 1\n",
    "    objects_num[index][1][class_names[image_object['category_id']]] += 1\n",
    "print(objects_num[1])"
   ]
  },
  {
   "cell_type": "code",
   "execution_count": 56,
   "metadata": {},
   "outputs": [
    {
     "name": "stdout",
     "output_type": "stream",
     "text": [
      "objects in 0 image: 1\n",
      "objects in 1 image: 8\n",
      "objects in 2 image: 1\n",
      "objects in 3 image: 2\n",
      "objects in 4 image: 6\n",
      "objects in 5 image: 22\n",
      "objects in 6 image: 1\n",
      "objects in 7 image: 2\n",
      "objects in 8 image: 7\n",
      "objects in 9 image: 1\n",
      "objects in 10 image: 1\n",
      "objects in 11 image: 1\n",
      "objects in 12 image: 3\n",
      "objects in 13 image: 16\n",
      "objects in 14 image: 5\n",
      "objects in 15 image: 3\n",
      "objects in 16 image: 1\n",
      "objects in 17 image: 1\n",
      "objects in 18 image: 11\n",
      "objects in 19 image: 10\n",
      "objects in 20 image: 1\n",
      "objects in 21 image: 10\n",
      "objects in 22 image: 2\n",
      "objects in 23 image: 1\n",
      "objects in 24 image: 1\n",
      "objects in 25 image: 1\n",
      "objects in 26 image: 2\n",
      "objects in 27 image: 3\n",
      "objects in 28 image: 4\n",
      "objects in 29 image: 5\n",
      "objects in 30 image: 1\n",
      "objects in 31 image: 3\n",
      "objects in 32 image: 14\n",
      "objects in 33 image: 2\n",
      "objects in 34 image: 1\n",
      "objects in 35 image: 1\n",
      "objects in 36 image: 3\n",
      "objects in 37 image: 1\n",
      "objects in 38 image: 14\n",
      "objects in 39 image: 1\n",
      "objects in 40 image: 1\n",
      "objects in 41 image: 4\n",
      "objects in 42 image: 22\n",
      "objects in 43 image: 3\n",
      "objects in 44 image: 3\n",
      "objects in 45 image: 19\n",
      "objects in 46 image: 2\n",
      "objects in 47 image: 1\n",
      "objects in 48 image: 1\n",
      "objects in 49 image: 2\n"
     ]
    }
   ],
   "source": [
    "for index, (value, objects) in enumerate(objects_num):\n",
    "    if 0 <= index and index < 50:\n",
    "        print(f\"objects in {index} image: {value}\")\n",
    "        # print(f\"objects in {index} image: {value} / objects: {objects}\")"
   ]
  },
  {
   "cell_type": "code",
   "execution_count": 58,
   "metadata": {},
   "outputs": [
    {
     "name": "stdout",
     "output_type": "stream",
     "text": [
      "{'General trash': 3966, 'Paper': 6352, 'Paper pack': 897, 'Metal': 936, 'Glass': 982, 'Plastic': 2943, 'Styrofoam': 1263, 'Plastic bag': 5178, 'Battery': 159, 'Clothing': 468}\n"
     ]
    }
   ],
   "source": [
    "object_dict = {'General trash':0, 'Paper':0, 'Paper pack':0, 'Metal':0, 'Glass':0, 'Plastic':0, 'Styrofoam':0, 'Plastic bag':0, 'Battery':0, 'Clothing':0}\n",
    "for image_object in train_json['annotations']:\n",
    "    object_dict[class_names[image_object['category_id']]] += 1\n",
    "print(object_dict)"
   ]
  },
  {
   "cell_type": "code",
   "execution_count": 72,
   "metadata": {},
   "outputs": [
    {
     "data": {
      "image/png": "[encoded data removed]",
      "text/plain": [
       "<Figure size 1008x576 with 1 Axes>"
      ]
     },
     "metadata": {
      "needs_background": "light"
     },
     "output_type": "display_data"
    }
   ],
   "source": [
    "values = [i for i in object_dict.values()]\n",
    "plt.figure(figsize=(14,8))\n",
    "plt.bar(np.arange(10), values)\n",
    "plt.xticks(np.arange(10), class_names)\n",
    "\n",
    "for index, value in enumerate(values):\n",
    "    plt.text(index, value, value,\n",
    "            horizontalalignment='center',\n",
    "            verticalalignment='bottom')\n",
    "\n",
    "plt.show()"
   ]
  },
  {
   "cell_type": "code",
   "execution_count": null,
   "metadata": {},
   "outputs": [],
   "source": []
  }
 ],
 "metadata": {
  "kernelspec": {
   "display_name": "Python 3 (ipykernel)",
   "language": "python",
   "name": "python3"
  },
  "language_info": {
   "codemirror_mode": {
    "name": "ipython",
    "version": 3
   },
   "file_extension": ".py",
   "mimetype": "text/x-python",
   "name": "python",
   "nbconvert_exporter": "python",
   "pygments_lexer": "ipython3",
   "version": "3.7.11"
  }
 },
 "nbformat": 4,
 "nbformat_minor": 4
}
